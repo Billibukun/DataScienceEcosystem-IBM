{
 "cells": [
  {
   "cell_type": "markdown",
   "id": "abc60ff4-79a4-4173-8530-13466e22e636",
   "metadata": {},
   "source": [
    "# Data Science Tools and Ecosystem"
   ]
  },
  {
   "cell_type": "markdown",
   "id": "3a7a5413-540c-47b0-86ad-168a5efd5244",
   "metadata": {},
   "source": [
    "In this notebook, Data Sience tools and Ecosystem are summarized."
   ]
  },
  {
   "cell_type": "markdown",
   "id": "3f514053-37a4-484e-8c30-eab37eb2b783",
   "metadata": {},
   "source": [
    "Some of the popular languages that Data Scientists use are:\n",
    "\n",
    "1. Python\n",
    "2. R\n",
    "3. SQL\n",
    "4. Julia\n",
    "5. Scala"
   ]
  },
  {
   "cell_type": "markdown",
   "id": "1883a0b0-de7b-4908-8c88-078576e5804b",
   "metadata": {},
   "source": [
    "Some of the commonly used libraries used by Data Scientists include:\n",
    "\n",
    "1. Pandas (Python)\n",
    "2. NumPy (Python)\n",
    "3. Scikit-learn (Python)\n",
    "4. ggplot2 (R)\n",
    "5. dplyr (R)"
   ]
  },
  {
   "cell_type": "markdown",
   "id": "bf1b35ff-1652-457c-a1d4-c534bbb7c2f5",
   "metadata": {},
   "source": [
    "| Data Science Tools |\n",
    "|---|\n",
    "| Jupyter Notebook |\n",
    "| VS Code |\n",
    "| Marimo |"
   ]
  },
  {
   "cell_type": "markdown",
   "id": "50cc3e23-f1c3-4883-a597-715efc14a93d",
   "metadata": {},
   "source": [
    "### Arithemetic Expressions\n",
    "Below are a few examples of evaluating arithmetic expressions in Python."
   ]
  },
  {
   "cell_type": "code",
   "execution_count": 4,
   "id": "3813cacc-c1a7-4e1e-b36f-4c46be85ec45",
   "metadata": {},
   "outputs": [
    {
     "name": "stdout",
     "output_type": "stream",
     "text": [
      "17\n"
     ]
    }
   ],
   "source": [
    "# This is a simple arithmetic expression to multiply then add integers.\n",
    "result = (3 * 4) + 5\n",
    "print(result) "
   ]
  },
  {
   "cell_type": "code",
   "execution_count": 5,
   "id": "bc0701b7-cdc5-438a-996b-305ebcdd2778",
   "metadata": {},
   "outputs": [
    {
     "name": "stdout",
     "output_type": "stream",
     "text": [
      "3.3333333333333335\n"
     ]
    }
   ],
   "source": [
    "# This will convert 200 minutes to hours by dividing by 60.\n",
    "minutes = 200\n",
    "hours = minutes / 60\n",
    "print(hours) "
   ]
  },
  {
   "cell_type": "markdown",
   "id": "37335292-f889-4783-bb8e-1d0fb882c19a",
   "metadata": {},
   "source": [
    "**Objectives:**\n",
    "\n",
    "* List popular languages for Data Science.\n",
    "* Introduce Jupyter Notebooks as a tool for data science.\n",
    "* Demonstrate how to perform basic arithmetic operations in Python.\n",
    "* Explain the use of markdown cells for documentation in notebooks.\n",
    "* Show how to create code cells to execute Python code."
   ]
  },
  {
   "cell_type": "markdown",
   "id": "900e7259-656b-4be0-a939-641e2e49e2c6",
   "metadata": {},
   "source": [
    "## Author\n",
    "\n",
    "Ibukunoluwa Omonijo"
   ]
  },
  {
   "cell_type": "code",
   "execution_count": null,
   "id": "2d0419fa-d4da-47d8-bd2f-4565ff0fb505",
   "metadata": {},
   "outputs": [],
   "source": []
  }
 ],
 "metadata": {
  "kernelspec": {
   "display_name": "Python 3 (ipykernel)",
   "language": "python",
   "name": "python3"
  },
  "language_info": {
   "codemirror_mode": {
    "name": "ipython",
    "version": 3
   },
   "file_extension": ".py",
   "mimetype": "text/x-python",
   "name": "python",
   "nbconvert_exporter": "python",
   "pygments_lexer": "ipython3",
   "version": "3.11.9"
  }
 },
 "nbformat": 4,
 "nbformat_minor": 5
}
